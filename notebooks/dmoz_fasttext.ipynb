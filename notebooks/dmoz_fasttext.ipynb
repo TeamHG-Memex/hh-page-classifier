{
 "cells": [
  {
   "cell_type": "code",
   "execution_count": 3,
   "metadata": {
    "collapsed": false
   },
   "outputs": [],
   "source": [
    "import json_lines, gzip, csv"
   ]
  },
  {
   "cell_type": "code",
   "execution_count": 8,
   "metadata": {
    "collapsed": false
   },
   "outputs": [],
   "source": [
    "with gzip.open('../../dmoz/content_url_topics.csv.gz', 'rt') as f:\n",
    "    topics_by_url = {url: topics for i, (url, topics) in enumerate(csv.reader(f))\n",
    "                     if i != 0}"
   ]
  },
  {
   "cell_type": "code",
   "execution_count": 9,
   "metadata": {
    "collapsed": false
   },
   "outputs": [
    {
     "data": {
      "text/plain": [
       "3222503"
      ]
     },
     "execution_count": 9,
     "metadata": {},
     "output_type": "execute_result"
    }
   ],
   "source": [
    "len(topics_by_url)"
   ]
  },
  {
   "cell_type": "code",
   "execution_count": 12,
   "metadata": {
    "collapsed": false
   },
   "outputs": [],
   "source": [
    "from collections import defaultdict\n",
    "urls_by_topic = defaultdict(list)\n",
    "for url, topics in topics_by_url.items():\n",
    "    for topic in topics.split('/'):\n",
    "        urls_by_topic[topic].append(url)"
   ]
  },
  {
   "cell_type": "code",
   "execution_count": 13,
   "metadata": {
    "collapsed": true
   },
   "outputs": [],
   "source": [
    "topic_counts = sorted(((topic, len(urls)) for topic, urls in urls_by_topic.items()), key=lambda x: x[1], reverse=True)"
   ]
  },
  {
   "cell_type": "code",
   "execution_count": 15,
   "metadata": {
    "collapsed": false
   },
   "outputs": [
    {
     "data": {
      "text/plain": [
       "[('Top', 3222100),\n",
       " ('World', 1530547),\n",
       " ('Regional', 1115260),\n",
       " ('North_America', 579081),\n",
       " ('United_States', 552733),\n",
       " ('Localities', 432721),\n",
       " ('Deutsch', 414555),\n",
       " ('Europa', 376914),\n",
       " ('Europe', 310769),\n",
       " ('Business_and_Economy', 292272),\n",
       " ('Deutschland', 194285),\n",
       " ('Français', 192438),\n",
       " ('United_Kingdom', 176963),\n",
       " ('Arts', 164999),\n",
       " ('Society', 162427),\n",
       " ('Japanese', 155173),\n",
       " ('Städte_und_Gemeinden', 144989),\n",
       " ('Business', 138975),\n",
       " ('Italiano', 134222),\n",
       " ('Régional', 113500),\n",
       " ('England', 110666),\n",
       " ('Español', 108070),\n",
       " ('Russian', 105573),\n",
       " ('Wirtschaft', 97638),\n",
       " ('Sports', 94968),\n",
       " ('Landkreise', 93672),\n",
       " ('Shopping', 86152),\n",
       " ('Regionale', 82628),\n",
       " ('Travel_and_Tourism', 82023),\n",
       " ('France', 80998),\n",
       " ('Education', 80778),\n",
       " ('Italia', 79271),\n",
       " ('Canada', 77908),\n",
       " ('Religion_and_Spirituality', 76906),\n",
       " ('Science', 76351),\n",
       " ('Health', 75002),\n",
       " ('Località', 73578),\n",
       " ('Computers', 73534),\n",
       " ('Nederlands', 72664),\n",
       " ('Society_and_Culture', 70928),\n",
       " ('S', 65966),\n",
       " ('Christianity', 63721),\n",
       " ('日本', 63408),\n",
       " ('地域', 62798),\n",
       " ('Music', 61933),\n",
       " ('アジア', 61444),\n",
       " ('Recreation', 59597),\n",
       " ('Страны_и_регионы', 58352),\n",
       " ('Arts_and_Entertainment', 57037),\n",
       " ('C', 56581),\n",
       " ('B', 55903),\n",
       " ('Европа', 55053),\n",
       " ('Polski', 53183),\n",
       " ('Türkçe', 53000),\n",
       " ('M', 51195),\n",
       " ('California', 50670),\n",
       " ('Régions', 49318),\n",
       " ('Oceania', 49176),\n",
       " ('市町村', 48983),\n",
       " ('Kultur', 47034),\n",
       " ('Denominations', 45779),\n",
       " ('Sport', 45765),\n",
       " ('Commerce_et_économie', 45220),\n",
       " ('Internet', 44205),\n",
       " ('Reference', 43856),\n",
       " ('Texas', 43704),\n",
       " ('España', 43372),\n",
       " ('Software', 42535),\n",
       " ('Россия', 41143),\n",
       " ('Organizations', 40539),\n",
       " ('A', 37755),\n",
       " ('Lodging', 37397),\n",
       " ('Субъекты_Федерации', 37174),\n",
       " ('Asia', 36625),\n",
       " ('Nordrhein-Westfalen', 36251),\n",
       " ('L', 36020),\n",
       " ('P', 34201),\n",
       " ('Gesellschaft', 34178),\n",
       " ('Government', 33832),\n",
       " ('Australia', 33805),\n",
       " ('Economía_y_negocios', 33359),\n",
       " ('W', 32729),\n",
       " ('Real_Estate', 32296),\n",
       " ('H', 32294),\n",
       " ('Construction_and_Maintenance', 31821),\n",
       " ('D', 31399),\n",
       " ('Gesundheit', 30909),\n",
       " ('ビジネス', 30440),\n",
       " ('Comunidades_Autónomas', 30312),\n",
       " ('Regionalne', 30287),\n",
       " ('Bands_and_Artists', 30224),\n",
       " ('Polska', 29809),\n",
       " ('América', 29499),\n",
       " ('Bölgesel', 29091),\n",
       " ('Orta_Doğu', 28829),\n",
       " ('Games', 28769),\n",
       " ('Türkiye', 28577),\n",
       " ('Бизнес_и_экономика', 28172),\n",
       " ('Bölgeler', 28143),\n",
       " ('Dansk', 27428)]"
      ]
     },
     "execution_count": 15,
     "metadata": {},
     "output_type": "execute_result"
    }
   ],
   "source": [
    "topic_counts[:100]"
   ]
  },
  {
   "cell_type": "code",
   "execution_count": 17,
   "metadata": {
    "collapsed": false
   },
   "outputs": [
    {
     "name": "stdout",
     "output_type": "stream",
     "text": [
      "Top/Health/Pharmacy/Drugs_and_Medications/A/Anakinra https://medlineplus.gov/druginfo/meds/a602001.html\n",
      "Top/Regional/North_America/United_States/Georgia/Localities/A/Athens/Travel_and_Tourism/Lodging http://hamptoninn3.hilton.com/en/hotels/georgia/hampton-inn-athens-AHNGAHX/index.html\n",
      "Top/Games/Video_Games/Roleplaying/A/Age_of_Conan_-_Hyborian_Adventures http://pc.gamespy.com/pc/age-of-conan-hyborian-adventures/\n",
      "Top/World/Deutsch/Regional/Europa/Deutschland/Nordrhein-Westfalen/Städte_und_Gemeinden/A/Aachen/Gesellschaft/Politik http://www.spd-aachen.de/\n",
      "Top/Regional/North_America/United_States/Alabama/Localities/A/Attalla/Education http://ies.ecboe.org/\n",
      "Top/World/Deutsch/Regional/Europa/Deutschland/Nordrhein-Westfalen/Städte_und_Gemeinden/A/Aachen/Sport/Tanzen http://www.dancing-and-more.de/\n"
     ]
    }
   ],
   "source": [
    "printed = 0\n",
    "for url, topics in topics_by_url.items():\n",
    "    if '/A/' in topics:\n",
    "        print(topics, url)\n",
    "        printed += 1\n",
    "        if printed > 5:\n",
    "            break"
   ]
  },
  {
   "cell_type": "code",
   "execution_count": 41,
   "metadata": {
    "collapsed": true
   },
   "outputs": [],
   "source": [
    "import fasttext\n",
    "from hh_page_clf.pretraining.dmoz_fasttext import to_single_line"
   ]
  },
  {
   "cell_type": "code",
   "execution_count": 19,
   "metadata": {
    "collapsed": true
   },
   "outputs": [],
   "source": [
    "m = fasttext.load_model('../dmoz-ng1-mc10-mcl10.model.bin.bin')"
   ]
  },
  {
   "cell_type": "code",
   "execution_count": 22,
   "metadata": {
    "collapsed": false
   },
   "outputs": [],
   "source": [
    "import json\n",
    "with gzip.open('../datasets/iarpa-blogs.json.gz', 'rt') as f:\n",
    "    pages = json.load(f)"
   ]
  },
  {
   "cell_type": "code",
   "execution_count": 42,
   "metadata": {
    "collapsed": false
   },
   "outputs": [],
   "source": [
    "import html_text\n",
    "texts = [to_single_line(html_text.extract_text(page['html'])) for page in pages['pages']]"
   ]
  },
  {
   "cell_type": "code",
   "execution_count": 43,
   "metadata": {
    "collapsed": false
   },
   "outputs": [
    {
     "name": "stdout",
     "output_type": "stream",
     "text": [
      "(False,\n",
      " [[('__label__Science', 0.0332031),\n",
      "   ('__label__Computers', 0.0292969),\n",
      "   ('__label__Regional', 0.0214844),\n",
      "   ('__label__Society', 0.0214844),\n",
      "   ('__label__Europe', 0.0175781),\n",
      "   ('__label__Arts', 0.015625),\n",
      "   ('__label__Health', 0.0136719),\n",
      "   ('__label__Internet', 0.0117188),\n",
      "   ('__label__United_Kingdom', 0.0117188),\n",
      "   ('__label__Software', 0.00976564)]])\n",
      "(True,\n",
      " [[('__label__Computers', 0.0351563),\n",
      "   ('__label__Society', 0.0351563),\n",
      "   ('__label__Arts', 0.0292969),\n",
      "   ('__label__Games', 0.0195313),\n",
      "   ('__label__Internet', 0.0175781),\n",
      "   ('__label__RFCs', 0.015625),\n",
      "   ('__label__Video_Games', 0.0136719),\n",
      "   ('__label__Titles', 0.0136719),\n",
      "   ('__label__Issues', 0.0136719),\n",
      "   ('__label__Movies', 0.0117188)]])\n",
      "(True,\n",
      " [[('__label__Regional', 0.046875),\n",
      "   ('__label__Society', 0.0429688),\n",
      "   ('__label__Science', 0.0292969),\n",
      "   ('__label__Computers', 0.0214844),\n",
      "   ('__label__North_America', 0.0214844),\n",
      "   ('__label__United_States', 0.0195313),\n",
      "   ('__label__Europe', 0.015625),\n",
      "   ('__label__Arts', 0.015625),\n",
      "   ('__label__Recreation', 0.015625),\n",
      "   ('__label__Society_and_Culture', 0.015625)]])\n",
      "(True,\n",
      " [[('__label__Computers', 0.0722657),\n",
      "   ('__label__Internet', 0.0351563),\n",
      "   ('__label__Regional', 0.0332031),\n",
      "   ('__label__Arts', 0.0234375),\n",
      "   ('__label__Europe', 0.0214844),\n",
      "   ('__label__Software', 0.0214844),\n",
      "   ('__label__Society', 0.0195313),\n",
      "   ('__label__Health', 0.0175781),\n",
      "   ('__label__Science', 0.015625),\n",
      "   ('__label__United_Kingdom', 0.015625)]])\n",
      "(True,\n",
      " [[('__label__Computers', 0.0722657),\n",
      "   ('__label__Science', 0.0410156),\n",
      "   ('__label__Internet', 0.0273438),\n",
      "   ('__label__Software', 0.0253906),\n",
      "   ('__label__Arts', 0.0214844),\n",
      "   ('__label__Regional', 0.0214844),\n",
      "   ('__label__Europe', 0.0195313),\n",
      "   ('__label__Society', 0.0175781),\n",
      "   ('__label__Health', 0.015625),\n",
      "   ('__label__Programming', 0.0117188)]])\n",
      "(False,\n",
      " [[('__label__Regional', 0.0507813),\n",
      "   ('__label__Sports', 0.0292969),\n",
      "   ('__label__Europe', 0.0234375),\n",
      "   ('__label__North_America', 0.0234375),\n",
      "   ('__label__United_States', 0.0234375),\n",
      "   ('__label__Localities', 0.0195313),\n",
      "   ('__label__United_Kingdom', 0.0195313),\n",
      "   ('__label__Recreation', 0.0175781),\n",
      "   ('__label__England', 0.0136719),\n",
      "   ('__label__Business_and_Economy', 0.0117188)]])\n",
      "(True,\n",
      " [[('__label__Computers', 0.0703125),\n",
      "   ('__label__Society', 0.0488281),\n",
      "   ('__label__Internet', 0.0351563),\n",
      "   ('__label__Science', 0.0292969),\n",
      "   ('__label__Arts', 0.0273438),\n",
      "   ('__label__Games', 0.0195313),\n",
      "   ('__label__Software', 0.0175781),\n",
      "   ('__label__RFCs', 0.0136719),\n",
      "   ('__label__Recreation', 0.0136719),\n",
      "   ('__label__Programming', 0.0117188)]])\n",
      "(True,\n",
      " [[('__label__World', 0.0410156),\n",
      "   ('__label__Computers', 0.0292969),\n",
      "   ('__label__Regional', 0.0292969),\n",
      "   ('__label__Business', 0.0253906),\n",
      "   ('__label__Science', 0.0175781),\n",
      "   ('__label__North_America', 0.0136719),\n",
      "   ('__label__Internet', 0.0117188),\n",
      "   ('__label__United_States', 0.0117188),\n",
      "   ('__label__Business_and_Economy', 0.00976564),\n",
      "   ('__label__Society', 0.00976564)]])\n",
      "(False,\n",
      " [[('__label__Deutsch', 0.138672),\n",
      "   ('__label__World', 0.132813),\n",
      "   ('__label__Deutschland', 0.0410156),\n",
      "   ('__label__Kultur', 0.0371094),\n",
      "   ('__label__Europa', 0.0351563),\n",
      "   ('__label__Regional', 0.0292969),\n",
      "   ('__label__Städte_und_Gemeinden', 0.0214844),\n",
      "   ('__label__Landkreise', 0.0195313),\n",
      "   ('__label__Gesellschaft', 0.0175781),\n",
      "   ('__label__Film', 0.0117188)]])\n",
      "(False,\n",
      " [[('__label__Deutsch', 0.138672),\n",
      "   ('__label__World', 0.132813),\n",
      "   ('__label__Deutschland', 0.0410156),\n",
      "   ('__label__Kultur', 0.0371094),\n",
      "   ('__label__Europa', 0.0351563),\n",
      "   ('__label__Regional', 0.0292969),\n",
      "   ('__label__Städte_und_Gemeinden', 0.0214844),\n",
      "   ('__label__Landkreise', 0.0195313),\n",
      "   ('__label__Gesellschaft', 0.0175781),\n",
      "   ('__label__Film', 0.0117188)]])\n"
     ]
    }
   ],
   "source": [
    "from pprint import pprint\n",
    "for item, text in zip(pages['pages'], texts[:10]):\n",
    "    pprint((item['relevant'], m.predict_proba([text], k=10)))"
   ]
  },
  {
   "cell_type": "code",
   "execution_count": 44,
   "metadata": {
    "collapsed": false
   },
   "outputs": [
    {
     "data": {
      "text/plain": [
       "'http://2014.hack.lu/index.php/list'"
      ]
     },
     "execution_count": 44,
     "metadata": {},
     "output_type": "execute_result"
    }
   ],
   "source": [
    "pages['pages'][0]['url']"
   ]
  }
 ],
 "metadata": {
  "kernelspec": {
   "display_name": "Python 3",
   "language": "python",
   "name": "python3"
  },
  "language_info": {
   "codemirror_mode": {
    "name": "ipython",
    "version": 3
   },
   "file_extension": ".py",
   "mimetype": "text/x-python",
   "name": "python",
   "nbconvert_exporter": "python",
   "pygments_lexer": "ipython3",
   "version": "3.5.2"
  }
 },
 "nbformat": 4,
 "nbformat_minor": 1
}
